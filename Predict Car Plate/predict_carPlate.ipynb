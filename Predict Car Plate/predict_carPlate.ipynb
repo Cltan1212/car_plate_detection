{
 "cells": [
  {
   "cell_type": "markdown",
   "id": "6cd70f09-cc4b-43d1-bcea-27c6c6bc7d11",
   "metadata": {},
   "source": [
    "# Car Plate Prediction\n",
    "- This program use the haar_carplate model that created before to get the portion of the car plate from a picture."
   ]
  },
  {
   "cell_type": "code",
   "execution_count": 4,
   "id": "c416491f-9d97-4e2a-8a40-8e2e7185a559",
   "metadata": {
    "tags": []
   },
   "outputs": [],
   "source": [
    "import PIL\n",
    "from PIL import Image\n",
    "import glob\n",
    "import shutil, os\n",
    "from time import sleep\n",
    "import cv2\n",
    "import numpy as np"
   ]
  },
  {
   "cell_type": "markdown",
   "id": "8263b7e8-f795-445d-abdf-e029323edb0e",
   "metadata": {},
   "source": [
    "## Initial Picture Size Conversion\n",
    "This program will convert the picture inside predictPlate_sr to the size only 300x225."
   ]
  },
  {
   "cell_type": "code",
   "execution_count": 3,
   "id": "7695ada2-a6e1-4d89-ad4d-2eb0f106fab9",
   "metadata": {
    "tags": []
   },
   "outputs": [
    {
     "name": "stdout",
     "output_type": "stream",
     "text": [
      "predictPlate_srdirectory: \n",
      "Start conversion...\n"
     ]
    },
    {
     "name": "stderr",
     "output_type": "stream",
     "text": [
      "/var/folders/9d/gh1b88712ls8_52kt29w8ffw0000gn/T/ipykernel_1792/3726675522.py:17: DeprecationWarning: ANTIALIAS is deprecated and will be removed in Pillow 10 (2023-07-01). Use LANCZOS or Resampling.LANCZOS instead.\n",
      "  img_new = img.resize((300, 225), PIL.Image.ANTIALIAS)\n"
     ]
    },
    {
     "name": "stdout",
     "output_type": "stream",
     "text": [
      "Finish conversion.\n"
     ]
    }
   ],
   "source": [
    "# function to empty the directory\n",
    "def emptydir(dirname):\n",
    "    if os.path.isdir(dirname):\n",
    "        shutil.rmtree(dirname)\n",
    "        sleep(2)\n",
    "    os.mkdir(dirname)\n",
    "\n",
    "# function to cenversie the picture size\n",
    "def dirResize(src, dst):\n",
    "    myfiles = glob.glob(src + '/*.jpg')\n",
    "    emptydir(dst)\n",
    "    print(src + 'directory: ')\n",
    "    print('Start conversion...')\n",
    "    for f in myfiles:\n",
    "        fname = f.split('/')[-1]\n",
    "        img = Image.open(f)\n",
    "        img_new = img.resize((300, 225), PIL.Image.ANTIALIAS)\n",
    "        img_new.save(dst + '/' + fname)\n",
    "    print('Finish conversion.')\n",
    "    \n",
    "dirResize('predictPlate_sr','predictPlate')"
   ]
  },
  {
   "cell_type": "markdown",
   "id": "38e79cc2-de9d-4b89-82a1-88580e008f6d",
   "metadata": {},
   "source": [
    "## Crop the car plate rectangle from the picture\n",
    "We use the car plate model that we created before (haar_carplate.xml) to mark the car plate from the picture, and using it to crop out from the picture."
   ]
  },
  {
   "cell_type": "code",
   "execution_count": 14,
   "id": "51e71dc3-fd33-4fcf-8b84-ce731030e704",
   "metadata": {
    "tags": []
   },
   "outputs": [
    {
     "name": "stdout",
     "output_type": "stream",
     "text": [
      "Start cropping car plate...\n",
      "These are the picture cannot be cropped: \n",
      "<PIL.JpegImagePlugin.JpegImageFile image mode=RGB size=300x225 at 0x16461C310>\n",
      "<PIL.JpegImagePlugin.JpegImageFile image mode=RGB size=300x225 at 0x1573AA9D0>\n",
      "<PIL.JpegImagePlugin.JpegImageFile image mode=RGB size=300x225 at 0x1573A84D0>\n",
      "<PIL.JpegImagePlugin.JpegImageFile image mode=RGB size=300x225 at 0x1573A8C50>\n",
      "<PIL.JpegImagePlugin.JpegImageFile image mode=RGB size=300x225 at 0x1573A8AD0>\n",
      "<PIL.JpegImagePlugin.JpegImageFile image mode=RGB size=300x225 at 0x1573A8610>\n",
      "<PIL.JpegImagePlugin.JpegImageFile image mode=RGB size=300x225 at 0x1573A8AD0>\n",
      "<PIL.JpegImagePlugin.JpegImageFile image mode=RGB size=300x225 at 0x1573AAF50>\n",
      "<PIL.JpegImagePlugin.JpegImageFile image mode=RGB size=300x225 at 0x1573A8850>\n",
      "<PIL.JpegImagePlugin.JpegImageFile image mode=RGB size=300x225 at 0x1573A9750>\n",
      "<PIL.JpegImagePlugin.JpegImageFile image mode=RGB size=300x225 at 0x1573A9A50>\n",
      "<PIL.JpegImagePlugin.JpegImageFile image mode=RGB size=300x225 at 0x1573A96D0>\n",
      "<PIL.JpegImagePlugin.JpegImageFile image mode=RGB size=300x225 at 0x1573A9E50>\n",
      "<PIL.JpegImagePlugin.JpegImageFile image mode=RGB size=300x225 at 0x1573AA4D0>\n",
      "<PIL.JpegImagePlugin.JpegImageFile image mode=RGB size=300x225 at 0x1573AAAD0>\n",
      "Finish cropping.\n"
     ]
    },
    {
     "name": "stderr",
     "output_type": "stream",
     "text": [
      "/var/folders/9d/gh1b88712ls8_52kt29w8ffw0000gn/T/ipykernel_1792/2094509431.py:18: DeprecationWarning: ANTIALIAS is deprecated and will be removed in Pillow 10 (2023-07-01). Use LANCZOS or Resampling.LANCZOS instead.\n",
      "  image3 = image2.resize((140,40), Image.ANTIALIAS)\n"
     ]
    }
   ],
   "source": [
    "print('Start cropping car plate...')\n",
    "print('These are the picture cannot be cropped: ')\n",
    "dstdir = 'cropPlate'\n",
    "emptydir(dstdir)\n",
    "myfiles = glob.glob(\"predictPlate/*.jpg\")\n",
    "for imgname in myfiles:\n",
    "    filename = (imgname.split('/'))[-1]\n",
    "    img = cv2.imread(imgname)\n",
    "    \n",
    "    # use model to detect the car plate\n",
    "    detector = cv2.CascadeClassifier('haar_carplate.xml')\n",
    "    signs = detector.detectMultiScale(img, scaleFactor = 1.1, minNeighbors = 4, minSize = (20,20))\n",
    "    \n",
    "    if len(signs) > 0:\n",
    "        for (x,y,w,h) in signs:\n",
    "            image1 = Image.open(imgname)\n",
    "            image2 = image1.crop((x,y,x+w,y+h))\n",
    "            image3 = image2.resize((140,40), Image.ANTIALIAS) \n",
    "            img_gray = np.array(image3.convert('L')) # convert to gray \n",
    "            _, img_thre = cv2.threshold(img_gray, 127, 255, cv2.THRESH_BINARY) # convert grey to black white\n",
    "            cv2.imwrite(dstdir + '/' + filename, img_thre)\n",
    "    \n",
    "    else: \n",
    "        print(filename)\n",
    "         \n",
    "print('Finish cropping.')"
   ]
  },
  {
   "cell_type": "code",
   "execution_count": null,
   "id": "27c671b4-c672-49fe-9b36-98bc01f5fb71",
   "metadata": {},
   "outputs": [],
   "source": []
  }
 ],
 "metadata": {
  "kernelspec": {
   "display_name": "Python 3 (ipykernel)",
   "language": "python",
   "name": "python3"
  },
  "language_info": {
   "codemirror_mode": {
    "name": "ipython",
    "version": 3
   },
   "file_extension": ".py",
   "mimetype": "text/x-python",
   "name": "python",
   "nbconvert_exporter": "python",
   "pygments_lexer": "ipython3",
   "version": "3.11.3"
  }
 },
 "nbformat": 4,
 "nbformat_minor": 5
}
